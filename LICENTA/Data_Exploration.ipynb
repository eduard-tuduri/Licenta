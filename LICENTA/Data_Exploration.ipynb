{
 "cells": [
  {
   "cell_type": "code",
   "execution_count": 1,
   "metadata": {},
   "outputs": [],
   "source": [
    "import pandas as pd\n",
    "import numpy as np\n",
    "\n",
    "train_photos_to_biz = pd.read_csv('train_photo_to_biz_ids.csv')\n",
    "train_labels = pd.read_csv('train.csv')"
   ]
  },
  {
   "cell_type": "code",
   "execution_count": 39,
   "metadata": {},
   "outputs": [
    {
     "name": "stdout",
     "output_type": "stream",
     "text": [
      "   photo_id  business_id\n",
      "0    204149         3034\n",
      "1     52779         2805\n",
      "2    278973          485\n",
      "3    195284          485\n",
      "4     19992          485\n"
     ]
    }
   ],
   "source": [
    "print(train_photos_to_biz.head())"
   ]
  },
  {
   "cell_type": "code",
   "execution_count": 3,
   "metadata": {},
   "outputs": [
    {
     "name": "stdout",
     "output_type": "stream",
     "text": [
      "   business_id         labels\n",
      "0         1000  1 2 3 4 5 6 7\n",
      "1         1001        0 1 6 8\n",
      "2          100    1 2 4 5 6 7\n",
      "3         1006      1 2 4 5 6\n",
      "4         1010          0 6 8\n"
     ]
    }
   ],
   "source": [
    "print(train_labels.head())"
   ]
  },
  {
   "cell_type": "code",
   "execution_count": 4,
   "metadata": {},
   "outputs": [
    {
     "name": "stdout",
     "output_type": "stream",
     "text": [
      "<class 'pandas.core.frame.DataFrame'>\n",
      "RangeIndex: 234842 entries, 0 to 234841\n",
      "Data columns (total 2 columns):\n",
      "photo_id       234842 non-null int64\n",
      "business_id    234842 non-null int64\n",
      "dtypes: int64(2)\n",
      "memory usage: 3.6 MB\n",
      "None\n"
     ]
    }
   ],
   "source": [
    "print(train_photos_to_biz.info())"
   ]
  },
  {
   "cell_type": "code",
   "execution_count": 5,
   "metadata": {},
   "outputs": [
    {
     "name": "stdout",
     "output_type": "stream",
     "text": [
      "<class 'pandas.core.frame.DataFrame'>\n",
      "RangeIndex: 2000 entries, 0 to 1999\n",
      "Data columns (total 2 columns):\n",
      "business_id    2000 non-null int64\n",
      "labels         1996 non-null object\n",
      "dtypes: int64(1), object(1)\n",
      "memory usage: 31.3+ KB\n",
      "None\n"
     ]
    }
   ],
   "source": [
    "print(train_labels.info())"
   ]
  },
  {
   "cell_type": "code",
   "execution_count": 6,
   "metadata": {},
   "outputs": [
    {
     "name": "stdout",
     "output_type": "stream",
     "text": [
      "train_to_biz (234842, 2)\n",
      "business_id_to_labels (2000, 2)\n",
      "\n",
      "NaN Values\n",
      "Empty DataFrame\n",
      "Columns: [photo_id, business_id]\n",
      "Index: []\n",
      "\n",
      "      business_id labels\n",
      "385          1627    NaN\n",
      "928          2661    NaN\n",
      "1083         2941    NaN\n",
      "1678          430    NaN\n"
     ]
    }
   ],
   "source": [
    "print('train_to_biz', train_photos_to_biz.shape)\n",
    "print('business_id_to_labels', train_labels.shape, end='\\n\\n')\n",
    "\n",
    "# print the null values\n",
    "print('NaN Values')\n",
    "print(train_photos_to_biz[pd.isnull(train_photos_to_biz['photo_id'])], end='\\n\\n')\n",
    "print(train_labels[pd.isnull(train_labels['labels'])])"
   ]
  },
  {
   "cell_type": "code",
   "execution_count": 7,
   "metadata": {},
   "outputs": [
    {
     "name": "stdout",
     "output_type": "stream",
     "text": [
      "1\n",
      "1\n",
      "234842\n",
      "2000\n"
     ]
    }
   ],
   "source": [
    "# test for duplicates; in both equal 1 we're good\n",
    "print(max(train_photos_to_biz.groupby(train_photos_to_biz.columns.tolist(),as_index=False).size()))\n",
    "print(max(train_labels.groupby(train_labels.columns.tolist(),as_index=False).size()))\n",
    "\n",
    "print(np.unique(train_photos_to_biz['photo_id'].values).size)\n",
    "print(np.unique(train_labels['business_id'].values).size)"
   ]
  },
  {
   "cell_type": "code",
   "execution_count": 8,
   "metadata": {},
   "outputs": [
    {
     "name": "stderr",
     "output_type": "stream",
     "text": [
      "100%|█████████████████████████████████████████████████████████████████████████| 469684/469684 [24:11<00:00, 323.67it/s]\n"
     ]
    },
    {
     "name": "stdout",
     "output_type": "stream",
     "text": [
      "0\n"
     ]
    }
   ],
   "source": [
    "# check unmapped train images\n",
    "# THIS TAKES AROUND 20 MINS\n",
    "import os\n",
    "from tqdm import tqdm\n",
    "import re\n",
    "\n",
    "TRAIN_DIR = 'train_photos'\n",
    "\n",
    "photos_ids = train_photos_to_biz['photo_id'].values.tolist()\n",
    "\n",
    "regex = re.compile('._')\n",
    "count = 0\n",
    "\n",
    "with open('unmapped_photo_ids.txt', 'w') as f:\n",
    "    for photo in tqdm(os.listdir(TRAIN_DIR)):\n",
    "        name = regex.sub('', photo[:-4])\n",
    "        if int(name) not in photos_ids:\n",
    "            f.write(name + '\\n')\n",
    "            count += 1\n",
    "    f.flush()\n",
    "    \n",
    "print(count)\n",
    "    "
   ]
  }
 ],
 "metadata": {
  "kernelspec": {
   "display_name": "Python 3",
   "language": "python",
   "name": "python3"
  },
  "language_info": {
   "codemirror_mode": {
    "name": "ipython",
    "version": 3
   },
   "file_extension": ".py",
   "mimetype": "text/x-python",
   "name": "python",
   "nbconvert_exporter": "python",
   "pygments_lexer": "ipython3",
   "version": "3.6.2"
  }
 },
 "nbformat": 4,
 "nbformat_minor": 2
}
