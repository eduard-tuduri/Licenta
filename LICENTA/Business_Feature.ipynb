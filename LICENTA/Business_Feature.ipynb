{
 "cells": [
  {
   "cell_type": "code",
   "execution_count": 7,
   "metadata": {},
   "outputs": [],
   "source": [
    "import numpy as np\n",
    "import pandas as pd\n",
    "import h5py\n",
    "\n",
    "DATA_DIR = r'D:\\LICENTA\\processed_data\\size_224x224'"
   ]
  },
  {
   "cell_type": "code",
   "execution_count": 8,
   "metadata": {},
   "outputs": [
    {
     "name": "stdout",
     "output_type": "stream",
     "text": [
      "Number of train business: 1996 4 business dropped due to missing labels\n"
     ]
    }
   ],
   "source": [
    "train_photo_to_biz = pd.read_csv('train_photo_to_biz_ids.csv')\n",
    "train_labels = pd.read_csv('train.csv').dropna()\n",
    "train_labels['labels'] = train_labels['labels'].apply(lambda x: tuple(sorted(int(t) for t in x.split())))\n",
    "train_labels.set_index('business_id', inplace=True)\n",
    "biz_ids = train_labels.index.unique()\n",
    "\n",
    "print('Number of train business:', len(biz_ids), '4 business dropped due to missing labels')"
   ]
  },
  {
   "cell_type": "code",
   "execution_count": 9,
   "metadata": {},
   "outputs": [],
   "source": [
    "with h5py.File(DATA_DIR + r'\\train_images_vgg16_features.h5', 'r') as f:\n",
    "    train_images_features = np.copy(f['feature'])"
   ]
  },
  {
   "cell_type": "code",
   "execution_count": 10,
   "metadata": {},
   "outputs": [
    {
     "name": "stderr",
     "output_type": "stream",
     "text": [
      "100%|█████████████████████████████████████████████████████████████████████████████| 1996/1996 [00:13<00:00, 142.70it/s]\n"
     ]
    },
    {
     "name": "stdout",
     "output_type": "stream",
     "text": [
      "Wall time: 15.9 s\n"
     ]
    }
   ],
   "source": [
    "%%time\n",
    "from tqdm import tqdm\n",
    "\n",
    "df = pd.DataFrame(columns=['business', 'label', 'feature_vector'])\n",
    "index = 0\n",
    "\n",
    "for biz in tqdm(biz_ids):\n",
    "    label = train_labels.loc[biz]['labels']\n",
    "    image_index = train_photo_to_biz[train_photo_to_biz['business_id'] == biz].index.tolist()\n",
    "    \n",
    "    features = train_images_features[image_index]\n",
    "    mean_feature = list(np.mean(features, axis=0))\n",
    "    \n",
    "    df.loc[index] = [biz, label, mean_feature]\n",
    "    index += 1\n",
    "    \n",
    "with open(DATA_DIR + r'\\train_biz_vgg16_features.csv', 'w') as f:\n",
    "    df.to_csv(f, index=False)"
   ]
  },
  {
   "cell_type": "code",
   "execution_count": 11,
   "metadata": {},
   "outputs": [
    {
     "name": "stdout",
     "output_type": "stream",
     "text": [
      "(1996, 3)\n"
     ]
    },
    {
     "data": {
      "text/html": [
       "<div>\n",
       "<style>\n",
       "    .dataframe thead tr:only-child th {\n",
       "        text-align: right;\n",
       "    }\n",
       "\n",
       "    .dataframe thead th {\n",
       "        text-align: left;\n",
       "    }\n",
       "\n",
       "    .dataframe tbody tr th {\n",
       "        vertical-align: top;\n",
       "    }\n",
       "</style>\n",
       "<table border=\"1\" class=\"dataframe\">\n",
       "  <thead>\n",
       "    <tr style=\"text-align: right;\">\n",
       "      <th></th>\n",
       "      <th>business</th>\n",
       "      <th>label</th>\n",
       "      <th>feature_vector</th>\n",
       "    </tr>\n",
       "  </thead>\n",
       "  <tbody>\n",
       "    <tr>\n",
       "      <th>0</th>\n",
       "      <td>1000</td>\n",
       "      <td>(1, 2, 3, 4, 5, 6, 7)</td>\n",
       "      <td>[28.877575, 33.530006, 46.876415, 34.705391, 2...</td>\n",
       "    </tr>\n",
       "    <tr>\n",
       "      <th>1</th>\n",
       "      <td>1001</td>\n",
       "      <td>(0, 1, 6, 8)</td>\n",
       "      <td>[36.042068, 38.030708, 65.95565, 38.702034, 25...</td>\n",
       "    </tr>\n",
       "    <tr>\n",
       "      <th>2</th>\n",
       "      <td>100</td>\n",
       "      <td>(1, 2, 4, 5, 6, 7)</td>\n",
       "      <td>[37.041508, 39.158905, 52.017677, 42.739239, 2...</td>\n",
       "    </tr>\n",
       "    <tr>\n",
       "      <th>3</th>\n",
       "      <td>1006</td>\n",
       "      <td>(1, 2, 4, 5, 6)</td>\n",
       "      <td>[33.927616, 30.564184, 73.064445, 39.443863, 1...</td>\n",
       "    </tr>\n",
       "    <tr>\n",
       "      <th>4</th>\n",
       "      <td>1010</td>\n",
       "      <td>(0, 6, 8)</td>\n",
       "      <td>[37.269249, 33.686077, 95.581299, 38.996761, 1...</td>\n",
       "    </tr>\n",
       "  </tbody>\n",
       "</table>\n",
       "</div>"
      ],
      "text/plain": [
       "   business                  label  \\\n",
       "0      1000  (1, 2, 3, 4, 5, 6, 7)   \n",
       "1      1001           (0, 1, 6, 8)   \n",
       "2       100     (1, 2, 4, 5, 6, 7)   \n",
       "3      1006        (1, 2, 4, 5, 6)   \n",
       "4      1010              (0, 6, 8)   \n",
       "\n",
       "                                      feature_vector  \n",
       "0  [28.877575, 33.530006, 46.876415, 34.705391, 2...  \n",
       "1  [36.042068, 38.030708, 65.95565, 38.702034, 25...  \n",
       "2  [37.041508, 39.158905, 52.017677, 42.739239, 2...  \n",
       "3  [33.927616, 30.564184, 73.064445, 39.443863, 1...  \n",
       "4  [37.269249, 33.686077, 95.581299, 38.996761, 1...  "
      ]
     },
     "execution_count": 11,
     "metadata": {},
     "output_type": "execute_result"
    }
   ],
   "source": [
    "# Check file content\n",
    "train_business = pd.read_csv(DATA_DIR + r'\\train_biz_vgg16_features.csv')\n",
    "print(train_business.shape)\n",
    "train_business[0:5]"
   ]
  },
  {
   "cell_type": "code",
   "execution_count": null,
   "metadata": {},
   "outputs": [],
   "source": [
    "test_photo_to_biz = pd.read_csv('test_photo_to_biz.csv')\n",
    "biz_ids = test_photo_to_biz['business_id'].unique()\n",
    "\n",
    "with h5py.File(DATA_DIR + r'\\test_images_vgg16_features.h5', 'r') as f:\n",
    "    image_filenames = list(np.copy(f['photo_id']))\n",
    "    image_filenames = [name.split('/')[-1][:-4] for name in image_filenames]\n",
    "    image_features = np.copy(f['feature'])\n",
    "    \n",
    "print('Number of test business:', len(biz_ids))"
   ]
  },
  {
   "cell_type": "code",
   "execution_count": null,
   "metadata": {},
   "outputs": [],
   "source": [
    "import time\n",
    "\n",
    "df = pd.DataFrame(columns=['business', 'feature_vector'])\n",
    "index = 0\n",
    "t = time.time()\n",
    "\n",
    "for biz in biz_ids:\n",
    "    image_ids = test_photo_to_biz[test_photo_to_biz['business_id'] == biz]['photo_id'].tolist()  \n",
    "    image_index = [image_filenames.index(str(x)) for x in image_ids]\n",
    "    \n",
    "    features = image_features[image_index]\n",
    "    mean_feature = list(np.mean(features, axis=0))\n",
    "    \n",
    "    df.loc[index] = [biz, mean_feature]\n",
    "    index += 1\n",
    "    \n",
    "    if index % 1000 == 0:\n",
    "        print(index, 'business processed  Time passed:', '{0:.1f}'.format(time.time() - t), 'sec')\n",
    "        \n",
    "with open(DATA_DESTINATION + r'\\test_biz_vgg16_features.csv', 'w') as f:\n",
    "    df.to_csv(f, index=False)"
   ]
  },
  {
   "cell_type": "code",
   "execution_count": null,
   "metadata": {},
   "outputs": [],
   "source": [
    "# Check file content\n",
    "test_business = pd.read_csv(DATA_DIR + r'\\test_biz_vgg16_features.csv')\n",
    "print(test_business.shape)\n",
    "test_business[0:5]"
   ]
  }
 ],
 "metadata": {
  "kernelspec": {
   "display_name": "Python 3",
   "language": "python",
   "name": "python3"
  },
  "language_info": {
   "codemirror_mode": {
    "name": "ipython",
    "version": 3
   },
   "file_extension": ".py",
   "mimetype": "text/x-python",
   "name": "python",
   "nbconvert_exporter": "python",
   "pygments_lexer": "ipython3",
   "version": "3.6.2"
  }
 },
 "nbformat": 4,
 "nbformat_minor": 2
}
