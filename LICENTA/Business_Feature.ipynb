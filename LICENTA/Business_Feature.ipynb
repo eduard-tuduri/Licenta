{
 "cells": [
  {
   "cell_type": "code",
   "execution_count": 1,
   "metadata": {},
   "outputs": [],
   "source": [
    "import numpy as np # linear algebra\n",
    "import pandas as pd # csv I/O\n",
    "import h5py # handle data that doesn't fit in memory\n",
    "\n",
    "IMG_SIZE = 299\n",
    "MODEL_NAME = 'xception'\n",
    "\n",
    "DATA_DIR = r'D:\\LICENTA\\processed_data\\size_{size1}x{size2}'.format(size1=IMG_SIZE, size2=IMG_SIZE)"
   ]
  },
  {
   "cell_type": "code",
   "execution_count": 6,
   "metadata": {},
   "outputs": [
    {
     "name": "stdout",
     "output_type": "stream",
     "text": [
      "Number of train business: 1996 4 business dropped due to missing labels\n"
     ]
    }
   ],
   "source": [
    "train_photo_to_biz = pd.read_csv('train_photo_to_biz_ids.csv')\n",
    "train_labels = pd.read_csv('train.csv').dropna()\n",
    "train_labels['labels'] = train_labels['labels'].apply(lambda x: tuple(sorted(int(t) for t in x.split())))\n",
    "train_labels.set_index('business_id', inplace=True)\n",
    "biz_ids = train_labels.index.unique()\n",
    "\n",
    "print('Number of train business:', len(biz_ids), '4 business dropped due to missing labels')"
   ]
  },
  {
   "cell_type": "code",
   "execution_count": 7,
   "metadata": {},
   "outputs": [],
   "source": [
    "with h5py.File(DATA_DIR + r'\\train_images_{name}_features_avg.h5'.format(name=MODEL_NAME), 'r') as f:\n",
    "    train_images_features = np.copy(f['feature'])"
   ]
  },
  {
   "cell_type": "code",
   "execution_count": 8,
   "metadata": {},
   "outputs": [
    {
     "name": "stderr",
     "output_type": "stream",
     "text": [
      "100%|██████████████████████████████████████████████████████████████████████████████| 1996/1996 [00:20<00:00, 99.52it/s]\n"
     ]
    },
    {
     "name": "stdout",
     "output_type": "stream",
     "text": [
      "Wall time: 28.2 s\n"
     ]
    }
   ],
   "source": [
    "%%time\n",
    "from tqdm import tqdm\n",
    "\n",
    "df = pd.DataFrame(columns=['business', 'label', 'feature_vector'])\n",
    "index = 0\n",
    "\n",
    "for biz in tqdm(biz_ids):\n",
    "    label = train_labels.loc[biz]['labels']\n",
    "    image_index = train_photo_to_biz[train_photo_to_biz['business_id'] == biz].index.tolist()\n",
    "    \n",
    "    features = train_images_features[image_index]\n",
    "    mean_feature = list(np.mean(features, axis=0))\n",
    "    \n",
    "    df.loc[index] = [biz, label, mean_feature]\n",
    "    index += 1\n",
    "    \n",
    "with open(DATA_DIR + r'\\train_biz_{name}_features.csv'.format(name=MODEL_NAME), 'w') as f:\n",
    "    df.to_csv(f, index=False)"
   ]
  },
  {
   "cell_type": "code",
   "execution_count": null,
   "metadata": {},
   "outputs": [],
   "source": [
    "# Check file content\n",
    "train_business = pd.read_csv(DATA_DIR + r'\\train_biz_{name}_features.csv'.format(name=MODEL_NAME))\n",
    "print(train_business.shape)\n",
    "train_business[0:5]"
   ]
  },
  {
   "cell_type": "code",
   "execution_count": 19,
   "metadata": {},
   "outputs": [
    {
     "name": "stdout",
     "output_type": "stream",
     "text": [
      "Number of test business: 10000\n"
     ]
    }
   ],
   "source": [
    "test_photo_to_biz = pd.read_csv('test_photo_to_biz.csv')\n",
    "biz_ids = test_photo_to_biz['business_id'].unique()\n",
    "\n",
    "with h5py.File(DATA_DIR + r'\\test_images_{name}_features_avg.h5'.format(name=MODEL_NAME), 'r') as f:\n",
    "    image_filenames = list(np.copy(f['photo_id']))\n",
    "    image_filenames = [name.split(b'\\\\')[-1][:-4] for name in image_filenames]\n",
    "    image_features = np.copy(f['feature'])\n",
    "    \n",
    "print('Number of test business:', len(biz_ids))"
   ]
  },
  {
   "cell_type": "code",
   "execution_count": 23,
   "metadata": {},
   "outputs": [
    {
     "name": "stderr",
     "output_type": "stream",
     "text": [
      "100%|██████████████████████████████████████████████████████████████████████████| 10000/10000 [1:35:30<00:00,  1.95it/s]\n"
     ]
    },
    {
     "name": "stdout",
     "output_type": "stream",
     "text": [
      "Wall time: 1h 36min 20s\n"
     ]
    }
   ],
   "source": [
    "%%time\n",
    "from tqdm import tqdm\n",
    "\n",
    "df = pd.DataFrame(columns=['business', 'feature_vector'])\n",
    "index = 0\n",
    "\n",
    "for biz in tqdm(biz_ids):\n",
    "    image_ids = test_photo_to_biz[test_photo_to_biz['business_id'] == biz]['photo_id'].tolist()\n",
    "    image_index = [image_filenames.index(str(x).encode()) for x in image_ids]\n",
    "    \n",
    "    features = image_features[image_index]\n",
    "    mean_feature = list(np.mean(features, axis=0))\n",
    "    \n",
    "    df.loc[index] = [biz, mean_feature]\n",
    "    index += 1\n",
    "        \n",
    "with open(DATA_DIR + r'\\test_biz_{name}_features.csv'.format(name=MODEL_NAME), 'w') as f:\n",
    "    df.to_csv(f, index=False)"
   ]
  },
  {
   "cell_type": "code",
   "execution_count": 24,
   "metadata": {},
   "outputs": [
    {
     "name": "stdout",
     "output_type": "stream",
     "text": [
      "(10000, 2)\n"
     ]
    },
    {
     "data": {
      "text/html": [
       "<div>\n",
       "<style>\n",
       "    .dataframe thead tr:only-child th {\n",
       "        text-align: right;\n",
       "    }\n",
       "\n",
       "    .dataframe thead th {\n",
       "        text-align: left;\n",
       "    }\n",
       "\n",
       "    .dataframe tbody tr th {\n",
       "        vertical-align: top;\n",
       "    }\n",
       "</style>\n",
       "<table border=\"1\" class=\"dataframe\">\n",
       "  <thead>\n",
       "    <tr style=\"text-align: right;\">\n",
       "      <th></th>\n",
       "      <th>business</th>\n",
       "      <th>feature_vector</th>\n",
       "    </tr>\n",
       "  </thead>\n",
       "  <tbody>\n",
       "    <tr>\n",
       "      <th>0</th>\n",
       "      <td>003sg</td>\n",
       "      <td>[0.11907065, 0.073270835, 0.10785412, 0.073216...</td>\n",
       "    </tr>\n",
       "    <tr>\n",
       "      <th>1</th>\n",
       "      <td>00er5</td>\n",
       "      <td>[0.13801534, 0.069412991, 0.10356507, 0.093447...</td>\n",
       "    </tr>\n",
       "    <tr>\n",
       "      <th>2</th>\n",
       "      <td>00kad</td>\n",
       "      <td>[0.11502581, 0.073984087, 0.12335605, 0.070464...</td>\n",
       "    </tr>\n",
       "    <tr>\n",
       "      <th>3</th>\n",
       "      <td>00mc6</td>\n",
       "      <td>[0.11302663, 0.069561109, 0.10974503, 0.097833...</td>\n",
       "    </tr>\n",
       "    <tr>\n",
       "      <th>4</th>\n",
       "      <td>00q7x</td>\n",
       "      <td>[0.080705076, 0.051065292, 0.079456739, 0.1045...</td>\n",
       "    </tr>\n",
       "  </tbody>\n",
       "</table>\n",
       "</div>"
      ],
      "text/plain": [
       "  business                                     feature_vector\n",
       "0    003sg  [0.11907065, 0.073270835, 0.10785412, 0.073216...\n",
       "1    00er5  [0.13801534, 0.069412991, 0.10356507, 0.093447...\n",
       "2    00kad  [0.11502581, 0.073984087, 0.12335605, 0.070464...\n",
       "3    00mc6  [0.11302663, 0.069561109, 0.10974503, 0.097833...\n",
       "4    00q7x  [0.080705076, 0.051065292, 0.079456739, 0.1045..."
      ]
     },
     "execution_count": 24,
     "metadata": {},
     "output_type": "execute_result"
    }
   ],
   "source": [
    "# Check file content\n",
    "test_business = pd.read_csv(DATA_DIR + r'\\test_biz_{name}_features.csv'.format(name=MODEL_NAME))\n",
    "print(test_business.shape)\n",
    "test_business[0:5]"
   ]
  }
 ],
 "metadata": {
  "kernelspec": {
   "display_name": "Python 3",
   "language": "python",
   "name": "python3"
  },
  "language_info": {
   "codemirror_mode": {
    "name": "ipython",
    "version": 3
   },
   "file_extension": ".py",
   "mimetype": "text/x-python",
   "name": "python",
   "nbconvert_exporter": "python",
   "pygments_lexer": "ipython3",
   "version": "3.6.2"
  }
 },
 "nbformat": 4,
 "nbformat_minor": 2
}
