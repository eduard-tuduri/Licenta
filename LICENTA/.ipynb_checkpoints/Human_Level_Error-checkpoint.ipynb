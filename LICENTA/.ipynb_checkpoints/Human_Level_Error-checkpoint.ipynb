{
 "cells": [
  {
   "cell_type": "code",
   "execution_count": 62,
   "metadata": {},
   "outputs": [],
   "source": [
    "import numpy as np\n",
    "import pandas as pd\n",
    "from sklearn.preprocessing import MultiLabelBinarizer\n",
    "from sklearn.metrics import f1_score\n",
    "\n",
    "groud_truth = pd.read_csv('train.csv').dropna()[:500]\n",
    "human_pred = pd.read_csv('human_level.csv')"
   ]
  },
  {
   "cell_type": "code",
   "execution_count": 67,
   "metadata": {},
   "outputs": [],
   "source": [
    "def convert_label_to_array(str_label):\n",
    "    str_label = str_label[1:-1]\n",
    "    str_label = str_label.split(' ')\n",
    "    return [int(x) for x in str_label if len(x) > 0]\n",
    "\n",
    "Y = np.array([convert_label_to_array(y) for y in groud_truth['labels'].values])\n",
    "Y_human = np.array([convert_label_to_array(y) for y in human_pred['labels'].values])"
   ]
  },
  {
   "cell_type": "code",
   "execution_count": 68,
   "metadata": {},
   "outputs": [],
   "source": [
    "mlb = MultiLabelBinarizer()\n",
    "\n",
    "Y = mlb.fit_transform(Y)\n",
    "Y_human = mlb.fit_transform(Y_human)"
   ]
  },
  {
   "cell_type": "code",
   "execution_count": 69,
   "metadata": {},
   "outputs": [
    {
     "name": "stdout",
     "output_type": "stream",
     "text": [
      "F1 Score:  0.5574018126888217\n",
      "F1 Individual Score:  [0.13994169 0.71641791 0.49342105 0.54275093 0.6484375  0.6567718\n",
      " 0.17948718]\n"
     ]
    }
   ],
   "source": [
    "print('F1 Score: ', f1_score(Y, Y_human, average='micro'))\n",
    "print('F1 Individual Score: ', f1_score(Y, Y_human, average=None))"
   ]
  }
 ],
 "metadata": {
  "kernelspec": {
   "display_name": "Python 3",
   "language": "python",
   "name": "python3"
  },
  "language_info": {
   "codemirror_mode": {
    "name": "ipython",
    "version": 3
   },
   "file_extension": ".py",
   "mimetype": "text/x-python",
   "name": "python",
   "nbconvert_exporter": "python",
   "pygments_lexer": "ipython3",
   "version": "3.6.2"
  }
 },
 "nbformat": 4,
 "nbformat_minor": 2
}
