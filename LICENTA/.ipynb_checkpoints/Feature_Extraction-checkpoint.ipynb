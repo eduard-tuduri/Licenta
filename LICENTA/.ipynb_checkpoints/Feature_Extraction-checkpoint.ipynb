{
 "cells": [
  {
   "cell_type": "code",
   "execution_count": null,
   "metadata": {},
   "outputs": [],
   "source": [
    "import numpy as np # liniear algebra\n",
    "import pandas as pd # csv I/O\n",
    "import os # file operations\n",
    "import h5py # handle data that doesn't fit in memory\n",
    "\n",
    "TRAIN_DIR = r'D:\\LICENTA\\train_photos'\n",
    "TEST_DIR = r'D:\\LICENTA\\test_photos'\n",
    "IMG_SIZE = 224\n",
    "\n",
    "DATA_DIR = r'D:\\LICENTA\\processed_data\\size_224x224'\n",
    "\n",
    "train_labels = pd.read_csv('train.csv')"
   ]
  },
  {
   "cell_type": "code",
   "execution_count": null,
   "metadata": {},
   "outputs": [],
   "source": [
    "%%time\n",
    "\n",
    "from keras.applications.vgg16 import VGG16 # predefined CNN Model\n",
    "from keras.preprocessing import image # get the array representation of the image\n",
    "from keras.applications.vgg16 import preprocess_input # get the array in a format compatible with the model\n",
    "\n",
    "# takes around 45 seconds\n",
    "model = VGG16(weights='imagenet', include_top=False, pooling='max')\n",
    "\n",
    "model.summary()"
   ]
  },
  {
   "cell_type": "code",
   "execution_count": null,
   "metadata": {},
   "outputs": [],
   "source": [
    "def extract_features(imgs_path, img_size):\n",
    "    \n",
    "    features = []\n",
    "    \n",
    "    for path in imgs_path:\n",
    "        img = image.load_img(path, target_size=(IMG_SIZE, IMG_SIZE))\n",
    "        img_array = image.img_to_array(img)\n",
    "        img_array = np.expand_dims(img_array, axis=0)\n",
    "        img_array = preprocess_input(img_array)\n",
    "        features.append(model.predict(img_array).reshape(512,))\n",
    "    \n",
    "    return np.array(features)"
   ]
  },
  {
   "cell_type": "code",
   "execution_count": null,
   "metadata": {},
   "outputs": [],
   "source": [
    "# TRAIN PHOTOS\n",
    "\n",
    "import time\n",
    "\n",
    "with h5py.File(DATA_DIR + r'\\train_images_vgg16_features.h5', 'w') as f:\n",
    "    img_names = f.create_dataset('photo_id', (0,), maxshape=(None,), dtype='|S54')\n",
    "    feature = f.create_dataset('feature', (0, 512), maxshape=(None, 512))\n",
    "\n",
    "train_photos = pd.read_csv('train_photo_to_biz_ids.csv')\n",
    "train_images = [os.path.join(TRAIN_DIR, str(x) + '.jpg') for x in train_photos['photo_id']]\n",
    "\n",
    "num_train = len(train_images)\n",
    "print('Number of train images:', num_train)\n",
    "batch_size = 2000\n",
    "num_done = 0\n",
    "t = time.time()\n",
    "\n",
    "for i in range(0, num_train, batch_size):\n",
    "    images = train_images[i:min(i + batch_size, num_train)]\n",
    "    features = extract_features(images, IMG_SIZE)\n",
    "    num_done = i + features.shape[0]\n",
    "    \n",
    "    with h5py.File(DATA_DIR + r'\\train_images_vgg16_features.h5', 'r+') as f:\n",
    "        f['photo_id'].resize((num_done,))\n",
    "        f['photo_id'][i:num_done] = np.array(images).astype('|S54')\n",
    "        f['feature'].resize((num_done, features.shape[1]))\n",
    "        f['feature'][i:num_done,:] = features\n",
    "    \n",
    "    if num_done % 2000 == 0 or num_done == num_train:\n",
    "        print('Train images proccesed:', num_done, 'time passed: ', '{0:.1f}'.format(time.time() - t), 'sec')\n"
   ]
  },
  {
   "cell_type": "code",
   "execution_count": null,
   "metadata": {},
   "outputs": [],
   "source": [
    "# Check the file content\n",
    "\n",
    "with h5py.File(DATA_DIR + r'\\train_images_vgg16_features.h5','r') as f:\n",
    "    print(r'\\train_image_vgg16_features.h5')\n",
    "    for key in f.keys():\n",
    "        print(key, f[key].shape)\n",
    "\n",
    "    print(\"\\nA photo:\", f['photo_id'][0])\n",
    "    print(\"Its feature vector (first 10-dim): \", f['feature'][0][0:10], \" ...\")"
   ]
  },
  {
   "cell_type": "code",
   "execution_count": null,
   "metadata": {},
   "outputs": [],
   "source": [
    "# TEST PHOTOS\n",
    "\n",
    "with h5py.File(DATA_DIR + r'\\test_images_vgg16_features.h5', 'w') as f:\n",
    "    img_names = f.create_dataset('photo_id', (0,), maxshape=(None,), dtype='|S54')\n",
    "    feature = f.create_dataset('feature', (0, 512), maxshape=(None, 512))\n",
    "    \n",
    "test_photos = pd.read_csv('test_photo_to_biz.csv')\n",
    "test_images = [os.path.join(TEST_DIR, str(x) + '.jpg') for x in test_photos['photo_id'].unique()]\n",
    "\n",
    "num_test = len(test_images)\n",
    "print('Number of test images: ', num_test)\n",
    "batch_size = 2000\n",
    "\n",
    "for i in range(0, num_test, batch_size):\n",
    "    images = test_images[i:min(i + batch_size, num_test)]\n",
    "    features = extract_features(images, IMG_SIZE)\n",
    "    num_done = i + features.shape[0]\n",
    "    \n",
    "    with h5py.File(DATA_DIR + r'\\test_images_vgg16_features.h5', 'r+') as f:\n",
    "        f['photo_id'].resize((num_done,))\n",
    "        f['photo_id'][i:num_done] = np.array(images).astype('|S54')\n",
    "        f['feature'].resize((num_done, features.shape[1]))\n",
    "        f['feature'][i:num_done,:] = features\n",
    "    \n",
    "    if num_done % 20000 == 0 or num_done == num_train:\n",
    "        print('Test images proccesed:', num_done)"
   ]
  },
  {
   "cell_type": "code",
   "execution_count": null,
   "metadata": {},
   "outputs": [],
   "source": [
    "# Check the file content\n",
    "\n",
    "with h5py.File(DATA_DIR + r'\\test_images_vgg16_features.h5','r') as f:\n",
    "    for key in f.keys():\n",
    "        print(key, f[key].shape)\n",
    "\n",
    "    print \"\\nA photo:\", f['photo_id'][0]\n",
    "    print(\"feature vector: (first 10-dim)\", f['feature'][0][0:10], \" ...\")"
   ]
  }
 ],
 "metadata": {
  "kernelspec": {
   "display_name": "Python 3",
   "language": "python",
   "name": "python3"
  },
  "language_info": {
   "codemirror_mode": {
    "name": "ipython",
    "version": 3
   },
   "file_extension": ".py",
   "mimetype": "text/x-python",
   "name": "python",
   "nbconvert_exporter": "python",
   "pygments_lexer": "ipython3",
   "version": "3.6.2"
  }
 },
 "nbformat": 4,
 "nbformat_minor": 2
}
