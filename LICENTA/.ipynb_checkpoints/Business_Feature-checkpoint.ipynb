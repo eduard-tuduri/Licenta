{
 "cells": [
  {
   "cell_type": "code",
   "execution_count": null,
   "metadata": {},
   "outputs": [],
   "source": [
    "import numpy as np\n",
    "import pandas as pd\n",
    "import h5py\n",
    "\n",
    "DATA_DESTINATION = r'D:\\LICENTA\\processed_data\\size_224x224'"
   ]
  },
  {
   "cell_type": "code",
   "execution_count": null,
   "metadata": {},
   "outputs": [],
   "source": [
    "train_photo_to_biz = pd.read_csv('train_photo_to_biz_ids.csv')\n",
    "train_labels = pd.read_csv('train.csv').dropna()\n",
    "train_labels['labels'] = train_labels['labels'].apply(lambda x: tuple(sorted(int(t) for t in x.split())))\n",
    "train_labels.set_index('business_id', inplace=True)\n",
    "biz_ids = train_labels.index.unique()\n",
    "\n",
    "print('Number of train business:', len(biz_ids), '4 business dropped due to missing labels')"
   ]
  },
  {
   "cell_type": "code",
   "execution_count": null,
   "metadata": {},
   "outputs": [],
   "source": [
    "with h5py.File(DATA_DESTINATION + r'\\train_images_vgg16_features.h5', 'r'):\n",
    "    train_images_features = np.copy(f['feature'])"
   ]
  },
  {
   "cell_type": "code",
   "execution_count": null,
   "metadata": {},
   "outputs": [],
   "source": [
    "%%time\n",
    "\n",
    "df = pd.DataFrame(columns=['business', 'label', 'fearure_vector'])\n",
    "index = 0\n",
    "\n",
    "for biz in biz_ids:\n",
    "    label = train_labels.loc[biz]['labels']\n",
    "    image_index = train_photo_to_biz[train_photo_to_biz['business_id'] == biz].index.tolist()\n",
    "    \n",
    "    features = train_image_features[image_index]\n",
    "    mean_feature = list(np.mean(features, axis=0))\n",
    "    \n",
    "    df.loc[index] = [biz, label, mean_feature]\n",
    "    index += 1\n",
    "    \n",
    "with open(DATA_DESTINATION + r'train_biz_vgg16_features.csv', 'w') as f:\n",
    "    df.to_csv(f, index=False)"
   ]
  },
  {
   "cell_type": "code",
   "execution_count": null,
   "metadata": {},
   "outputs": [],
   "source": [
    "# Check file content\n",
    "train_business = pd.read_csv(DATA_DESTINATION + r'train_biz_vgg16_features.csv')\n",
    "print(train_business.shape)\n",
    "train_business[0:5]"
   ]
  },
  {
   "cell_type": "code",
   "execution_count": null,
   "metadata": {},
   "outputs": [],
   "source": [
    "test_photo_to_biz = pd.read_csv('test_photo_to_biz.csv')\n",
    "biz_ids = test_photo_to_biz['business_id'].unique()\n",
    "\n",
    "with h5py.File(DATA_DESTINATION + r'\\test_images_vgg16_features.h5', 'r') as f:\n",
    "    image_filenames = list(np.copy(f['photo_id']))\n",
    "    image_filenames = [name.split('/')[-1][:-4] for name in image_filenames]\n",
    "    image_features = np.copy(f['feature'])\n",
    "    \n",
    "print('Number of test business:', len(biz_ids))"
   ]
  },
  {
   "cell_type": "code",
   "execution_count": null,
   "metadata": {},
   "outputs": [],
   "source": [
    "import time\n",
    "\n",
    "df = pd.DataFrame(columns=['business', 'feature_vector'])\n",
    "index = 0\n",
    "t = time.time()\n",
    "\n",
    "for biz in biz_ids:\n",
    "    image_ids = test_photo_to_biz[test_photo_to_biz['business_id'] == biz]['photo_id'].tolist()  \n",
    "    image_index = [image_filenames.index(str(x)) for x in image_ids]\n",
    "    \n",
    "    features = image_features[image_index]\n",
    "    mean_feature = list(np.mean(features, axis=0))\n",
    "    \n",
    "    df.loc[index] = [biz, mean_feature]\n",
    "    index += 1\n",
    "    \n",
    "    if index % 1000 == 0:\n",
    "        print(index, 'business processed  Time passed:', '{0:.1f}'.format(time.time() - t), 'sec')\n",
    "        \n",
    "with open(DATA_DESTINATION + r'test_biz_vgg16_features.csv', 'w') as f:\n",
    "    df.to_csv(f, index=False)"
   ]
  },
  {
   "cell_type": "code",
   "execution_count": null,
   "metadata": {},
   "outputs": [],
   "source": [
    "# Check file content\n",
    "test_business = pd.read_csv(DATA_DESTINATION + r'test_biz_vgg16_features.csv')\n",
    "print(test_business.shape)\n",
    "test_business[0:5]"
   ]
  }
 ],
 "metadata": {
  "kernelspec": {
   "display_name": "Python 3",
   "language": "python",
   "name": "python3"
  },
  "language_info": {
   "codemirror_mode": {
    "name": "ipython",
    "version": 3
   },
   "file_extension": ".py",
   "mimetype": "text/x-python",
   "name": "python",
   "nbconvert_exporter": "python",
   "pygments_lexer": "ipython3",
   "version": "3.6.2"
  }
 },
 "nbformat": 4,
 "nbformat_minor": 2
}
