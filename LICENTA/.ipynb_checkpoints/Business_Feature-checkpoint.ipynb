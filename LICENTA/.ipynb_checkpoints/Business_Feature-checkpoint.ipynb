{
 "cells": [
  {
   "cell_type": "code",
   "execution_count": 9,
   "metadata": {},
   "outputs": [],
   "source": [
    "import numpy as np # linear algebra\n",
    "import pandas as pd # csv I/O\n",
    "import h5py # handle data that doesn't fit in memory\n",
    "\n",
    "IMG_SIZE = 299\n",
    "MODEL_NAME = 'xception'\n",
    "\n",
    "DATA_DIR = r'D:\\LICENTA\\processed_data\\size_{size1}x{size2}'.format(size1=IMG_SIZE, size2=IMG_SIZE)"
   ]
  },
  {
   "cell_type": "code",
   "execution_count": 10,
   "metadata": {},
   "outputs": [
    {
     "name": "stdout",
     "output_type": "stream",
     "text": [
      "Number of train business: 1996 4 business dropped due to missing labels\n"
     ]
    }
   ],
   "source": [
    "train_photo_to_biz = pd.read_csv('train_photo_to_biz_ids.csv')\n",
    "train_labels = pd.read_csv('train.csv').dropna()\n",
    "train_labels['labels'] = train_labels['labels'].apply(lambda x: tuple(sorted(int(t) for t in x.split())))\n",
    "train_labels.set_index('business_id', inplace=True)\n",
    "biz_ids = train_labels.index.unique()\n",
    "\n",
    "print('Number of train business:', len(biz_ids), '4 business dropped due to missing labels')"
   ]
  },
  {
   "cell_type": "code",
   "execution_count": 11,
   "metadata": {},
   "outputs": [],
   "source": [
    "with h5py.File(DATA_DIR + r'\\train_images_{name}_features.h5'.format(name=MODEL_NAME), 'r') as f:\n",
    "    train_images_features = np.copy(f['feature'])"
   ]
  },
  {
   "cell_type": "code",
   "execution_count": 38,
   "metadata": {},
   "outputs": [
    {
     "name": "stderr",
     "output_type": "stream",
     "text": [
      "100%|█████████████████████████████████████████████████████████████████████████████| 1996/1996 [00:16<00:00, 122.63it/s]\n"
     ]
    },
    {
     "name": "stdout",
     "output_type": "stream",
     "text": [
      "Wall time: 23.8 s\n"
     ]
    }
   ],
   "source": [
    "%%time\n",
    "from tqdm import tqdm\n",
    "\n",
    "df = pd.DataFrame(columns=['business', 'label', 'feature_vector'])\n",
    "index = 0\n",
    "\n",
    "for biz in tqdm(biz_ids):\n",
    "    label = train_labels.loc[biz]['labels']\n",
    "    image_index = train_photo_to_biz[train_photo_to_biz['business_id'] == biz].index.tolist()\n",
    "    \n",
    "    features = train_images_features[image_index]\n",
    "    mean_feature = list(np.mean(features, axis=0))\n",
    "    \n",
    "    df.loc[index] = [biz, label, mean_feature]\n",
    "    index += 1\n",
    "    \n",
    "with open(DATA_DIR + r'\\train_biz_{name}_features.csv'.format(name=MODEL_NAME), 'w') as f:\n",
    "    df.to_csv(f, index=False)"
   ]
  },
  {
   "cell_type": "code",
   "execution_count": 39,
   "metadata": {},
   "outputs": [
    {
     "name": "stdout",
     "output_type": "stream",
     "text": [
      "(1996, 3)\n"
     ]
    },
    {
     "data": {
      "text/html": [
       "<div>\n",
       "<style>\n",
       "    .dataframe thead tr:only-child th {\n",
       "        text-align: right;\n",
       "    }\n",
       "\n",
       "    .dataframe thead th {\n",
       "        text-align: left;\n",
       "    }\n",
       "\n",
       "    .dataframe tbody tr th {\n",
       "        vertical-align: top;\n",
       "    }\n",
       "</style>\n",
       "<table border=\"1\" class=\"dataframe\">\n",
       "  <thead>\n",
       "    <tr style=\"text-align: right;\">\n",
       "      <th></th>\n",
       "      <th>business</th>\n",
       "      <th>label</th>\n",
       "      <th>feature_vector</th>\n",
       "    </tr>\n",
       "  </thead>\n",
       "  <tbody>\n",
       "    <tr>\n",
       "      <th>0</th>\n",
       "      <td>1000</td>\n",
       "      <td>(1, 2, 3, 4, 5, 6, 7)</td>\n",
       "      <td>[0.98409426, 0.5011915, 0.80012208, 0.39773199...</td>\n",
       "    </tr>\n",
       "    <tr>\n",
       "      <th>1</th>\n",
       "      <td>1001</td>\n",
       "      <td>(0, 1, 6, 8)</td>\n",
       "      <td>[1.1223717, 0.39256608, 0.36077923, 1.2178262,...</td>\n",
       "    </tr>\n",
       "    <tr>\n",
       "      <th>2</th>\n",
       "      <td>100</td>\n",
       "      <td>(1, 2, 4, 5, 6, 7)</td>\n",
       "      <td>[1.0060079, 0.57109088, 0.84190941, 0.32770807...</td>\n",
       "    </tr>\n",
       "    <tr>\n",
       "      <th>3</th>\n",
       "      <td>1006</td>\n",
       "      <td>(1, 2, 4, 5, 6)</td>\n",
       "      <td>[1.1555356, 0.39558065, 0.63720721, 0.28982833...</td>\n",
       "    </tr>\n",
       "    <tr>\n",
       "      <th>4</th>\n",
       "      <td>1010</td>\n",
       "      <td>(0, 6, 8)</td>\n",
       "      <td>[0.98949295, 0.6631335, 0.60745454, 0.50947839...</td>\n",
       "    </tr>\n",
       "  </tbody>\n",
       "</table>\n",
       "</div>"
      ],
      "text/plain": [
       "   business                  label  \\\n",
       "0      1000  (1, 2, 3, 4, 5, 6, 7)   \n",
       "1      1001           (0, 1, 6, 8)   \n",
       "2       100     (1, 2, 4, 5, 6, 7)   \n",
       "3      1006        (1, 2, 4, 5, 6)   \n",
       "4      1010              (0, 6, 8)   \n",
       "\n",
       "                                      feature_vector  \n",
       "0  [0.98409426, 0.5011915, 0.80012208, 0.39773199...  \n",
       "1  [1.1223717, 0.39256608, 0.36077923, 1.2178262,...  \n",
       "2  [1.0060079, 0.57109088, 0.84190941, 0.32770807...  \n",
       "3  [1.1555356, 0.39558065, 0.63720721, 0.28982833...  \n",
       "4  [0.98949295, 0.6631335, 0.60745454, 0.50947839...  "
      ]
     },
     "execution_count": 39,
     "metadata": {},
     "output_type": "execute_result"
    }
   ],
   "source": [
    "# Check file content\n",
    "train_business = pd.read_csv(DATA_DIR + r'\\train_biz_{name}_features.csv'.format(name=MODEL_NAME))\n",
    "print(train_business.shape)\n",
    "train_business[0:5]"
   ]
  },
  {
   "cell_type": "code",
   "execution_count": null,
   "metadata": {},
   "outputs": [],
   "source": [
    "test_photo_to_biz = pd.read_csv('test_photo_to_biz.csv')\n",
    "biz_ids = test_photo_to_biz['business_id'].unique()\n",
    "\n",
    "with h5py.File(DATA_DIR + r'\\test_images_{name}_features.h5'.format(name=MODEL_NAME), 'r') as f:\n",
    "    image_filenames = list(np.copy(f['photo_id']))\n",
    "    image_filenames = [name.split('/')[-1][:-4] for name in image_filenames]\n",
    "    image_features = np.copy(f['feature'])\n",
    "    \n",
    "print('Number of test business:', len(biz_ids))"
   ]
  },
  {
   "cell_type": "code",
   "execution_count": null,
   "metadata": {},
   "outputs": [],
   "source": [
    "import time\n",
    "\n",
    "df = pd.DataFrame(columns=['business', 'feature_vector'])\n",
    "index = 0\n",
    "t = time.time()\n",
    "\n",
    "for biz in biz_ids:\n",
    "    image_ids = test_photo_to_biz[test_photo_to_biz['business_id'] == biz]['photo_id'].tolist()  \n",
    "    image_index = [image_filenames.index(str(x)) for x in image_ids]\n",
    "    \n",
    "    features = image_features[image_index]\n",
    "    mean_feature = list(np.mean(features, axis=0))\n",
    "    \n",
    "    df.loc[index] = [biz, mean_feature]\n",
    "    index += 1\n",
    "    \n",
    "    if index % 1000 == 0:\n",
    "        print(index, 'business processed  Time passed:', '{0:.1f}'.format(time.time() - t), 'sec')\n",
    "        \n",
    "with open(DATA_DIR + r'\\test_biz_{name}_features.csv'.format(name=MODEL_NAME), 'w') as f:\n",
    "    df.to_csv(f, index=False)"
   ]
  },
  {
   "cell_type": "code",
   "execution_count": null,
   "metadata": {},
   "outputs": [],
   "source": [
    "# Check file content\n",
    "test_business = pd.read_csv(DATA_DIR + r'\\test_biz_{name}_features.csv'.format(name=MODEL_NAME))\n",
    "print(test_business.shape)\n",
    "test_business[0:5]"
   ]
  }
 ],
 "metadata": {
  "kernelspec": {
   "display_name": "Python 3",
   "language": "python",
   "name": "python3"
  },
  "language_info": {
   "codemirror_mode": {
    "name": "ipython",
    "version": 3
   },
   "file_extension": ".py",
   "mimetype": "text/x-python",
   "name": "python",
   "nbconvert_exporter": "python",
   "pygments_lexer": "ipython3",
   "version": "3.6.2"
  }
 },
 "nbformat": 4,
 "nbformat_minor": 2
}
