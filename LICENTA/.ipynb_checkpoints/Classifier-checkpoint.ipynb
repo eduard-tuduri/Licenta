{
 "cells": [
  {
   "cell_type": "code",
   "execution_count": 45,
   "metadata": {},
   "outputs": [],
   "source": [
    "import numpy as np # linear algebra\n",
    "import pandas as pd # csv I/O\n",
    "\n",
    "IMG_SIZE = 299\n",
    "MODEL_NAME = 'xception'\n",
    "\n",
    "DATA_DIR= r'D:\\LICENTA\\processed_data\\size_{size1}x{size2}'.format(size1=IMG_SIZE, size2=IMG_SIZE)\n",
    "FEATURES_PATH = DATA_DIR +  r'\\train_biz_{name}_features.csv'.format(name=MODEL_NAME)"
   ]
  },
  {
   "cell_type": "code",
   "execution_count": 46,
   "metadata": {},
   "outputs": [],
   "source": [
    "train_photos = pd.read_csv('train_photo_to_biz_ids.csv')\n",
    "train_photo_to_biz = pd.read_csv('train_photo_to_biz_ids.csv', index_col='photo_id')\n",
    "\n",
    "train_df = pd.read_csv(FEATURES_PATH)\n",
    "\n",
    "X = train_df['feature_vector'].values\n",
    "Y = train_df['label'].values\n",
    "\n",
    "def convert_label_to_array(str_label):\n",
    "    str_label = str_label[1:-1]\n",
    "    str_label = str_label.split(',')\n",
    "    return [int(x) for x in str_label if len(x) > 0]\n",
    "\n",
    "def convert_feature_to_vector(str_feature):\n",
    "    str_feature = str_feature[1:-1]\n",
    "    str_feature = str_feature.split(',')\n",
    "    return [float(x) for x in str_feature]\n",
    "\n",
    "Y = np.array([convert_label_to_array(y) for y in train_df['label']])\n",
    "X = np.array([convert_feature_to_vector(x) for x in train_df['feature_vector']])"
   ]
  },
  {
   "cell_type": "code",
   "execution_count": 47,
   "metadata": {},
   "outputs": [
    {
     "name": "stdout",
     "output_type": "stream",
     "text": [
      "X_train:  (1996, 2048)\n",
      "y_train:  (1996,)\n",
      "train_df:\n"
     ]
    },
    {
     "data": {
      "text/html": [
       "<div>\n",
       "<style>\n",
       "    .dataframe thead tr:only-child th {\n",
       "        text-align: right;\n",
       "    }\n",
       "\n",
       "    .dataframe thead th {\n",
       "        text-align: left;\n",
       "    }\n",
       "\n",
       "    .dataframe tbody tr th {\n",
       "        vertical-align: top;\n",
       "    }\n",
       "</style>\n",
       "<table border=\"1\" class=\"dataframe\">\n",
       "  <thead>\n",
       "    <tr style=\"text-align: right;\">\n",
       "      <th></th>\n",
       "      <th>business</th>\n",
       "      <th>label</th>\n",
       "      <th>feature_vector</th>\n",
       "    </tr>\n",
       "  </thead>\n",
       "  <tbody>\n",
       "    <tr>\n",
       "      <th>0</th>\n",
       "      <td>1000</td>\n",
       "      <td>(1, 2, 3, 4, 5, 6, 7)</td>\n",
       "      <td>[0.12353174, 0.056759115, 0.10699466, 0.045236...</td>\n",
       "    </tr>\n",
       "    <tr>\n",
       "      <th>1</th>\n",
       "      <td>1001</td>\n",
       "      <td>(0, 1, 6, 8)</td>\n",
       "      <td>[0.19606702, 0.030776627, 0.032012787, 0.21252...</td>\n",
       "    </tr>\n",
       "    <tr>\n",
       "      <th>2</th>\n",
       "      <td>100</td>\n",
       "      <td>(1, 2, 4, 5, 6, 7)</td>\n",
       "      <td>[0.13964602, 0.059296891, 0.10956762, 0.041540...</td>\n",
       "    </tr>\n",
       "    <tr>\n",
       "      <th>3</th>\n",
       "      <td>1006</td>\n",
       "      <td>(1, 2, 4, 5, 6)</td>\n",
       "      <td>[0.16115737, 0.023083402, 0.10019045, 0.051235...</td>\n",
       "    </tr>\n",
       "    <tr>\n",
       "      <th>4</th>\n",
       "      <td>1010</td>\n",
       "      <td>(0, 6, 8)</td>\n",
       "      <td>[0.12933584, 0.086438626, 0.062900275, 0.05014...</td>\n",
       "    </tr>\n",
       "  </tbody>\n",
       "</table>\n",
       "</div>"
      ],
      "text/plain": [
       "   business                  label  \\\n",
       "0      1000  (1, 2, 3, 4, 5, 6, 7)   \n",
       "1      1001           (0, 1, 6, 8)   \n",
       "2       100     (1, 2, 4, 5, 6, 7)   \n",
       "3      1006        (1, 2, 4, 5, 6)   \n",
       "4      1010              (0, 6, 8)   \n",
       "\n",
       "                                      feature_vector  \n",
       "0  [0.12353174, 0.056759115, 0.10699466, 0.045236...  \n",
       "1  [0.19606702, 0.030776627, 0.032012787, 0.21252...  \n",
       "2  [0.13964602, 0.059296891, 0.10956762, 0.041540...  \n",
       "3  [0.16115737, 0.023083402, 0.10019045, 0.051235...  \n",
       "4  [0.12933584, 0.086438626, 0.062900275, 0.05014...  "
      ]
     },
     "execution_count": 47,
     "metadata": {},
     "output_type": "execute_result"
    }
   ],
   "source": [
    "print(\"X_train: \", X.shape)\n",
    "print(\"y_train: \", Y.shape)\n",
    "print(\"train_df:\")\n",
    "train_df[0:5]"
   ]
  },
  {
   "cell_type": "code",
   "execution_count": 48,
   "metadata": {},
   "outputs": [
    {
     "name": "stdout",
     "output_type": "stream",
     "text": [
      "X_train:  (1596, 2048)\n",
      "X_test:  (400, 2048)\n",
      "y_train:  (1596, 9)\n",
      "y_test:  (400, 9)\n"
     ]
    }
   ],
   "source": [
    "from sklearn import svm, preprocessing\n",
    "from sklearn.model_selection import train_test_split\n",
    "from sklearn.preprocessing import MultiLabelBinarizer\n",
    "\n",
    "mlb = MultiLabelBinarizer()\n",
    "Y = mlb.fit_transform(Y)\n",
    "\n",
    "random_state = np.random.RandomState(0)\n",
    "\n",
    "X_train, X_test, y_train, y_test = train_test_split(X, Y, test_size=0.2, random_state=random_state)\n",
    "\n",
    "print('X_train: ',X_train.shape)\n",
    "print('X_test: ', X_test.shape)\n",
    "print('y_train: ', y_train.shape)\n",
    "print('y_test: ', y_test.shape)"
   ]
  },
  {
   "cell_type": "code",
   "execution_count": 49,
   "metadata": {},
   "outputs": [
    {
     "name": "stdout",
     "output_type": "stream",
     "text": [
      "Wall time: 33.3 s\n"
     ]
    }
   ],
   "source": [
    "%%time\n",
    "from sklearn.multioutput import MultiOutputClassifier\n",
    "\n",
    "clf = MultiOutputClassifier(svm.SVC(kernel='rbf', C=2.6), n_jobs=-1)\n",
    "X_train = preprocessing.scale(X_train)\n",
    "clf.fit(X_train, y_train)\n",
    "\n",
    "X_test = preprocessing.scale(X_test)\n",
    "y_pred = clf.predict(X_test)"
   ]
  },
  {
   "cell_type": "code",
   "execution_count": 51,
   "metadata": {},
   "outputs": [
    {
     "name": "stdout",
     "output_type": "stream",
     "text": [
      "F1 Score:  0.854374633001\n",
      "F1 Individual Score:  [ 0.77205882  0.81632653  0.90076336  0.71611253  0.784689    0.90909091\n",
      "  0.93900185  0.7699115   0.92402464]\n"
     ]
    }
   ],
   "source": [
    "from sklearn.metrics import f1_score\n",
    "\n",
    "print('F1 Score: ', f1_score(y_test, y_pred, average='micro'))\n",
    "print('F1 Individual Score: ', f1_score(y_test, y_pred, average=None))"
   ]
  },
  {
   "cell_type": "code",
   "execution_count": 39,
   "metadata": {},
   "outputs": [
    {
     "name": "stdout",
     "output_type": "stream",
     "text": [
      "Wall time: 50.5 s\n"
     ]
    }
   ],
   "source": [
    "%%time\n",
    "from sklearn.multioutput import ClassifierChain\n",
    "\n",
    "X_train = preprocessing.scale(X_train)\n",
    "chains = [ClassifierChain(svm.SVC(kernel='rbf', C=2.6), order='random', random_state=i)\n",
    "          for i in range(1)]\n",
    "for chain in chains:\n",
    "    chain.fit(X_train, y_train)\n",
    "    \n",
    "X_test = preprocessing.scale(X_test)\n",
    "\n",
    "y_pred_chains = np.array([chain.predict(X_test) for chain in\n",
    "                          chains], dtype=object)\n",
    "\n",
    "y_pred = y_pred_chains.mean(axis=0)\n",
    "y_pred = y_pred.astype(int)"
   ]
  },
  {
   "cell_type": "code",
   "execution_count": null,
   "metadata": {},
   "outputs": [],
   "source": [
    "clf.score(X_test, y_test)"
   ]
  },
  {
   "cell_type": "code",
   "execution_count": 40,
   "metadata": {},
   "outputs": [
    {
     "name": "stdout",
     "output_type": "stream",
     "text": [
      "F1 Score:  0.81029496819\n",
      "F1 Individual Score:  [ 0.65942029  0.78712871  0.87128713  0.64321608  0.75454545  0.85887097\n",
      "  0.93333333  0.71729958  0.88612836]\n"
     ]
    }
   ],
   "source": [
    "from sklearn.metrics import f1_score\n",
    "\n",
    "print('F1 Score: ', f1_score(y_test, y_pred, average='micro'))\n",
    "print('F1 Individual Score: ', f1_score(y_test, y_pred, average=None))"
   ]
  },
  {
   "cell_type": "code",
   "execution_count": 52,
   "metadata": {},
   "outputs": [],
   "source": [
    "import pickle\n",
    "\n",
    "with open(r'D:\\LICENTA\\models\\svm_{size1}x{size2}\\svm_{name}.pkl'.format(size1=IMG_SIZE, size2=IMG_SIZE, name=MODEL_NAME), 'wb') as f:\n",
    "    pickle.dump(clf, f)"
   ]
  },
  {
   "cell_type": "code",
   "execution_count": null,
   "metadata": {},
   "outputs": [],
   "source": [
    "# testing with outside photos\n",
    "\n",
    "from keras.applications.xception import Xception\n",
    "from keras.preprocessing import image\n",
    "from keras.applications.xception import preprocess_input\n",
    "import os\n",
    "\n",
    "model = Xception(weights='imagenet', include_top=False, pooling='max')\n",
    "\n",
    "TEST_DIR = r'D:\\Retro Test Photos'\n",
    "        \n",
    "features = []\n",
    "\n",
    "for path in list(os.listdir(TEST_DIR)):\n",
    "    img = image.load_img(os.path.join(TEST_DIR, path), target_size=(IMG_SIZE, IMG_SIZE))\n",
    "    img_array = image.img_to_array(img)\n",
    "    img_array = np.expand_dims(img_array, axis=0)\n",
    "    img_array = preprocess_input(img_array)\n",
    "    features.append(model.predict(img_array).reshape(2048,))\n",
    "    \n",
    "test = np.mean(np.array(features), axis=0)\n",
    "\n",
    "test = test.reshape(2048,)\n",
    "test = preprocessing.scale(test)\n",
    "test = test.reshape(1, -1)\n",
    "prediction = clf.predict(test)\n",
    "print(prediction)"
   ]
  }
 ],
 "metadata": {
  "kernelspec": {
   "display_name": "Python 3",
   "language": "python",
   "name": "python3"
  },
  "language_info": {
   "codemirror_mode": {
    "name": "ipython",
    "version": 3
   },
   "file_extension": ".py",
   "mimetype": "text/x-python",
   "name": "python",
   "nbconvert_exporter": "python",
   "pygments_lexer": "ipython3",
   "version": "3.6.2"
  }
 },
 "nbformat": 4,
 "nbformat_minor": 2
}
