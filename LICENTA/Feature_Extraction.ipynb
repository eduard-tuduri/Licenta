{
 "cells": [
  {
   "cell_type": "code",
   "execution_count": null,
   "metadata": {},
   "outputs": [],
   "source": [
    "%%time\n",
    "\n",
    "from keras.applications.vgg16 import VGG16\n",
    "from keras.preprocessing import image\n",
    "from keras.applications.vgg16 import preprocess_input\n",
    "\n",
    "# takes around 45 seconds\n",
    "model = VGG16(weights='imagenet', include_top=False)\n",
    "\n",
    "model.summary()"
   ]
  },
  {
   "cell_type": "code",
   "execution_count": null,
   "metadata": {},
   "outputs": [],
   "source": [
    "%%time\n",
    "import numpy as np\n",
    "\n",
    "IMG_SIZE = 50\n",
    "TRAIN_DATA_PATH = r'D:\\LICENTA\\processed_data\\size_{size1}x{size2}\\train_data.npy'.format(size1=IMG_SIZE, size2=IMG_SIZE)\n",
    "# this takes around 1 minute\n",
    "images = np.load(TRAIN_DATA_PATH)"
   ]
  },
  {
   "cell_type": "code",
   "execution_count": null,
   "metadata": {},
   "outputs": [],
   "source": [
    "import pandas as pd\n",
    "\n",
    "train_biz = pd.read_csv('train.csv')\n",
    "train_biz.dropna(axis=0, inplace=True)\n",
    "business_ids = train_biz['business_id'].values"
   ]
  },
  {
   "cell_type": "code",
   "execution_count": null,
   "metadata": {},
   "outputs": [],
   "source": [
    "%%time\n",
    "from tqdm import tqdm\n",
    "# around 2,5 hours on the current dataset\n",
    "biz_to_features = []\n",
    "feature_imgs_list = []\n",
    "\n",
    "for business_id in tqdm(list(business_ids)):\n",
    "    matched_images = images[images[:,1] == business_id][:,0]\n",
    "    \n",
    "    for img in list(matched_images):\n",
    "        img = img.astype(dtype='float32')\n",
    "        img = np.expand_dims(img, axis=0)\n",
    "        img = preprocess_input(img)\n",
    "        img_features = model.predict(img)\n",
    "        feature_imgs_list.append(img_features)\n",
    "    \n",
    "    biz_to_features.append([np.array(business_id), np.mean(np.array(feature_imgs_list), axis=0)])"
   ]
  },
  {
   "cell_type": "code",
   "execution_count": null,
   "metadata": {},
   "outputs": [],
   "source": [
    "FEATURES_PATH = r'D:\\LICENTA\\processed_data\\size_{size1}x{size2}\\biz_to_features.npy'.format(size1=IMG_SIZE, size2=IMG_SIZE)\n",
    "\n",
    "np.save(FEATURES_PATH, np.array(biz_to_features, dtype='object'))"
   ]
  },
  {
   "cell_type": "code",
   "execution_count": null,
   "metadata": {},
   "outputs": [],
   "source": [
    "data = np.load(FEATURES_PATH)\n",
    "\n",
    "data[0]"
   ]
  }
 ],
 "metadata": {
  "kernelspec": {
   "display_name": "Python 3",
   "language": "python",
   "name": "python3"
  },
  "language_info": {
   "codemirror_mode": {
    "name": "ipython",
    "version": 3
   },
   "file_extension": ".py",
   "mimetype": "text/x-python",
   "name": "python",
   "nbconvert_exporter": "python",
   "pygments_lexer": "ipython3",
   "version": "3.6.2"
  }
 },
 "nbformat": 4,
 "nbformat_minor": 2
}
