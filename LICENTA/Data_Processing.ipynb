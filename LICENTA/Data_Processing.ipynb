{
 "cells": [
  {
   "cell_type": "code",
   "execution_count": 15,
   "metadata": {},
   "outputs": [],
   "source": [
    "import numpy as np # liniear algebra\n",
    "import pandas as pd # csv I/O\n",
    "from tqdm import tqdm # nicely formatted progess bar\n",
    "import cv2 # image processing\n",
    "import os # file operations\n",
    "from random import shuffle\n",
    "import re # regex\n",
    "\n",
    "TRAIN_DIR = r'D:\\LICENTA\\train_photos'\n",
    "TEST_DIR = r'D:\\LICENTA\\test_photos'\n",
    "IMG_SIZE = 50\n",
    "\n",
    "train_photos_to_biz = pd.read_csv('train_photo_to_biz_ids.csv')\n",
    "train_labels = pd.read_csv('train.csv')\n",
    "\n",
    "test_photos_to_biz = pd.read_csv('test_photo_to_biz.csv')"
   ]
  },
  {
   "cell_type": "code",
   "execution_count": 16,
   "metadata": {},
   "outputs": [],
   "source": [
    "def create_train_data():\n",
    "    regex = re.compile('._')\n",
    "    count = 0\n",
    "    training_data = []\n",
    "    for img in tqdm(os.listdir(TRAIN_DIR)):\n",
    "        if '_' not in img:\n",
    "            img_id = regex.sub('', img[:-4])\n",
    "            business_id = train_photos_to_biz.loc[train_photos_to_biz['photo_id'] == int(img_id)]['business_id'].values[0]\n",
    "            path = os.path.join(TRAIN_DIR, img)\n",
    "            processed_img = cv2.resize(cv2.imread(path, cv2.IMREAD_COLOR), (IMG_SIZE, IMG_SIZE))\n",
    "            training_data.append([np.array(processed_img), np.array(business_id)])\n",
    "            count += 1\n",
    "        \n",
    "    shuffle(training_data)\n",
    "    np.save(r'D:\\LICENTA\\processed_data\\size_{size1}x{size2}\\train_data.npy'.format(size1=str(IMG_SIZE), size2=str(IMG_SIZE)), \n",
    "            training_data)\n",
    "    \n",
    "    return count"
   ]
  },
  {
   "cell_type": "code",
   "execution_count": 17,
   "metadata": {},
   "outputs": [
    {
     "name": "stderr",
     "output_type": "stream",
     "text": [
      "100%|████████████████████████████████████████████████████████████████████████| 469684/469684 [1:16:02<00:00, 52.46it/s]                                                                                                                       \n"
     ]
    },
    {
     "name": "stdout",
     "output_type": "stream",
     "text": [
      "234842 proccesed\n"
     ]
    }
   ],
   "source": [
    "print(create_train_data(), 'proccesed')"
   ]
  },
  {
   "cell_type": "code",
   "execution_count": 18,
   "metadata": {},
   "outputs": [],
   "source": [
    "def create_test_data():\n",
    "    testing_data = []\n",
    "    count = 0\n",
    "    regex = re.compile('._')\n",
    "    \n",
    "    for img in tqdm(os.listdir(TEST_DIR)):\n",
    "        if '_' not in img:\n",
    "            img_id = regex.sub('', img[:-4])\n",
    "            business_id = test_photos_to_biz.loc[test_photos_to_biz['photo_id'] == int(img_id)]['business_id'].values[0]\n",
    "            path = os.path.join(TEST_DIR, img)\n",
    "            processed_img = cv2.resize(cv2.imread(path, cv2.IMREAD_COLOR), (IMG_SIZE, IMG_SIZE))\n",
    "            testing_data.append([np.array(processed_img), np.array(business_id)])\n",
    "            count += 1\n",
    "            \n",
    "    np.save(r'D:\\LICENTA\\processed_data\\size_{size1}x{size2}\\test_data.npy'.format(size1=str(IMG_SIZE), size2=str(IMG_SIZE)), \n",
    "            testing_data)\n",
    "    \n",
    "    return count"
   ]
  },
  {
   "cell_type": "code",
   "execution_count": 19,
   "metadata": {},
   "outputs": [
    {
     "name": "stderr",
     "output_type": "stream",
     "text": [
      "100%|████████████████████████████████████████████████████████████████████████| 474304/474304 [1:32:07<00:00, 85.80it/s]                                                                                                                       \n"
     ]
    },
    {
     "name": "stdout",
     "output_type": "stream",
     "text": [
      "237152 proccesed\n"
     ]
    }
   ],
   "source": [
    "print(create_test_data(), 'proccesed')"
   ]
  }
 ],
 "metadata": {
  "kernelspec": {
   "display_name": "Python 3",
   "language": "python",
   "name": "python3"
  },
  "language_info": {
   "codemirror_mode": {
    "name": "ipython",
    "version": 3
   },
   "file_extension": ".py",
   "mimetype": "text/x-python",
   "name": "python",
   "nbconvert_exporter": "python",
   "pygments_lexer": "ipython3",
   "version": "3.6.2"
  }
 },
 "nbformat": 4,
 "nbformat_minor": 2
}
