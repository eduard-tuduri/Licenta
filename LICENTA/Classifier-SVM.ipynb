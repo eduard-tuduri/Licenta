{
 "cells": [
  {
   "cell_type": "code",
   "execution_count": 1,
   "metadata": {},
   "outputs": [],
   "source": [
    "import numpy as np # linear algebra\n",
    "import pandas as pd # csv I/O\n",
    "\n",
    "IMG_SIZE = 299\n",
    "MODEL_NAME = 'xception'\n",
    "\n",
    "DATA_DIR= r'D:\\LICENTA\\processed_data\\size_{size1}x{size2}'.format(size1=IMG_SIZE, size2=IMG_SIZE)\n",
    "FEATURES_PATH = DATA_DIR +  r'\\train_biz_{name}_features.csv'.format(name=MODEL_NAME)"
   ]
  },
  {
   "cell_type": "code",
   "execution_count": 2,
   "metadata": {},
   "outputs": [],
   "source": [
    "train_photos = pd.read_csv('train_photo_to_biz_ids.csv')\n",
    "train_photo_to_biz = pd.read_csv('train_photo_to_biz_ids.csv', index_col='photo_id')\n",
    "\n",
    "train_df = pd.read_csv(FEATURES_PATH)\n",
    "\n",
    "X = train_df['feature_vector'].values\n",
    "Y = train_df['label'].values\n",
    "\n",
    "def convert_label_to_array(str_label):\n",
    "    str_label = str_label[1:-1]\n",
    "    str_label = str_label.split(',')\n",
    "    return [int(x) for x in str_label if len(x) > 0]\n",
    "\n",
    "def convert_feature_to_vector(str_feature):\n",
    "    str_feature = str_feature[1:-1]\n",
    "    str_feature = str_feature.split(',')\n",
    "    return [float(x) for x in str_feature]\n",
    "\n",
    "Y = np.array([convert_label_to_array(y) for y in train_df['label']])\n",
    "X = np.array([convert_feature_to_vector(x) for x in train_df['feature_vector']])"
   ]
  },
  {
   "cell_type": "code",
   "execution_count": 3,
   "metadata": {},
   "outputs": [
    {
     "name": "stdout",
     "output_type": "stream",
     "text": [
      "X_train:  (1996, 2048)\n",
      "y_train:  (1996,)\n",
      "train_df:\n"
     ]
    },
    {
     "data": {
      "text/html": [
       "<div>\n",
       "<style>\n",
       "    .dataframe thead tr:only-child th {\n",
       "        text-align: right;\n",
       "    }\n",
       "\n",
       "    .dataframe thead th {\n",
       "        text-align: left;\n",
       "    }\n",
       "\n",
       "    .dataframe tbody tr th {\n",
       "        vertical-align: top;\n",
       "    }\n",
       "</style>\n",
       "<table border=\"1\" class=\"dataframe\">\n",
       "  <thead>\n",
       "    <tr style=\"text-align: right;\">\n",
       "      <th></th>\n",
       "      <th>business</th>\n",
       "      <th>label</th>\n",
       "      <th>feature_vector</th>\n",
       "    </tr>\n",
       "  </thead>\n",
       "  <tbody>\n",
       "    <tr>\n",
       "      <th>0</th>\n",
       "      <td>1000</td>\n",
       "      <td>(1, 2, 3, 4, 5, 6, 7)</td>\n",
       "      <td>[0.12353174, 0.056759115, 0.10699466, 0.045236...</td>\n",
       "    </tr>\n",
       "    <tr>\n",
       "      <th>1</th>\n",
       "      <td>1001</td>\n",
       "      <td>(0, 1, 6, 8)</td>\n",
       "      <td>[0.19606702, 0.030776627, 0.032012787, 0.21252...</td>\n",
       "    </tr>\n",
       "    <tr>\n",
       "      <th>2</th>\n",
       "      <td>100</td>\n",
       "      <td>(1, 2, 4, 5, 6, 7)</td>\n",
       "      <td>[0.13964602, 0.059296891, 0.10956762, 0.041540...</td>\n",
       "    </tr>\n",
       "    <tr>\n",
       "      <th>3</th>\n",
       "      <td>1006</td>\n",
       "      <td>(1, 2, 4, 5, 6)</td>\n",
       "      <td>[0.16115737, 0.023083402, 0.10019045, 0.051235...</td>\n",
       "    </tr>\n",
       "    <tr>\n",
       "      <th>4</th>\n",
       "      <td>1010</td>\n",
       "      <td>(0, 6, 8)</td>\n",
       "      <td>[0.12933584, 0.086438626, 0.062900275, 0.05014...</td>\n",
       "    </tr>\n",
       "  </tbody>\n",
       "</table>\n",
       "</div>"
      ],
      "text/plain": [
       "   business                  label  \\\n",
       "0      1000  (1, 2, 3, 4, 5, 6, 7)   \n",
       "1      1001           (0, 1, 6, 8)   \n",
       "2       100     (1, 2, 4, 5, 6, 7)   \n",
       "3      1006        (1, 2, 4, 5, 6)   \n",
       "4      1010              (0, 6, 8)   \n",
       "\n",
       "                                      feature_vector  \n",
       "0  [0.12353174, 0.056759115, 0.10699466, 0.045236...  \n",
       "1  [0.19606702, 0.030776627, 0.032012787, 0.21252...  \n",
       "2  [0.13964602, 0.059296891, 0.10956762, 0.041540...  \n",
       "3  [0.16115737, 0.023083402, 0.10019045, 0.051235...  \n",
       "4  [0.12933584, 0.086438626, 0.062900275, 0.05014...  "
      ]
     },
     "execution_count": 3,
     "metadata": {},
     "output_type": "execute_result"
    }
   ],
   "source": [
    "print(\"X_train: \", X.shape)\n",
    "print(\"y_train: \", Y.shape)\n",
    "print(\"train_df:\")\n",
    "train_df[0:5]"
   ]
  },
  {
   "cell_type": "code",
   "execution_count": 4,
   "metadata": {},
   "outputs": [
    {
     "name": "stdout",
     "output_type": "stream",
     "text": [
      "X_train:  (1596, 2048)\n",
      "X_test:  (400, 2048)\n",
      "y_train:  (1596, 9)\n",
      "y_test:  (400, 9)\n"
     ]
    }
   ],
   "source": [
    "from sklearn import svm, preprocessing\n",
    "from sklearn.model_selection import train_test_split\n",
    "from sklearn.preprocessing import MultiLabelBinarizer\n",
    "\n",
    "mlb = MultiLabelBinarizer()\n",
    "Y = mlb.fit_transform(Y)\n",
    "\n",
    "random_state = np.random.RandomState(0)\n",
    "\n",
    "X_train, X_test, y_train, y_test = train_test_split(X, Y, test_size=0.2, random_state=random_state)\n",
    "\n",
    "print('X_train: ',X_train.shape)\n",
    "print('X_test: ', X_test.shape)\n",
    "print('y_train: ', y_train.shape)\n",
    "print('y_test: ', y_test.shape)"
   ]
  },
  {
   "cell_type": "code",
   "execution_count": 4,
   "metadata": {},
   "outputs": [
    {
     "name": "stdout",
     "output_type": "stream",
     "text": [
      "X_train:  (1996, 2048)\n",
      "y_train:  (1996, 9)\n"
     ]
    }
   ],
   "source": [
    "# Train on whole dataset for testing\n",
    "from sklearn import svm, preprocessing\n",
    "from sklearn.preprocessing import MultiLabelBinarizer\n",
    "\n",
    "mlb = MultiLabelBinarizer()\n",
    "Y = mlb.fit_transform(Y)\n",
    "\n",
    "X_train = X\n",
    "y_train = Y\n",
    "\n",
    "print('X_train: ',X_train.shape)\n",
    "print('y_train: ', y_train.shape)"
   ]
  },
  {
   "cell_type": "code",
   "execution_count": 6,
   "metadata": {},
   "outputs": [
    {
     "name": "stdout",
     "output_type": "stream",
     "text": [
      "Wall time: 38.1 s\n"
     ]
    }
   ],
   "source": [
    "%%time\n",
    "from sklearn.multioutput import MultiOutputClassifier\n",
    "\n",
    "clf = MultiOutputClassifier(svm.SVC(kernel='rbf', C=2.6), n_jobs=-1)\n",
    "X_train = preprocessing.scale(X_train)\n",
    "clf.fit(X_train, y_train)\n",
    "\n",
    "# X_test = preprocessing.scale(X_test)\n",
    "# y_pred = clf.predict(X_test)"
   ]
  },
  {
   "cell_type": "code",
   "execution_count": null,
   "metadata": {},
   "outputs": [],
   "source": [
    "from sklearn.metrics import f1_score\n",
    "\n",
    "print('F1 Score: ', f1_score(y_test, y_pred, average='micro'))\n",
    "print('F1 Individual Score: ', f1_score(y_test, y_pred, average=None))"
   ]
  },
  {
   "cell_type": "code",
   "execution_count": 5,
   "metadata": {},
   "outputs": [],
   "source": [
    "class MultiLabelSVM:\n",
    "    def __init__(self, number_of_labels, params={}):\n",
    "        self.__params = params\n",
    "        self.__classifiers = []\n",
    "        self.__number_of_labels = number_of_labels\n",
    "        \n",
    "        for i in range(number_of_labels):\n",
    "            self.__classifiers.append(svm.SVC(kernel='rbf', C=self.__params['C'][i], gamma=self.__params['gamma'][i]))\n",
    "            \n",
    "    def fit(self, X_train, y_train):\n",
    "        for index, clf in enumerate(self.__classifiers):\n",
    "            clf.fit(X_train, y_train[:,index])\n",
    "            \n",
    "    def predict(self, X_test):\n",
    "        predictions = np.empty((len(X_test), self.__number_of_labels))\n",
    "       \n",
    "        for index, clf in enumerate(self.__classifiers):\n",
    "            pred = clf.predict(X_test)\n",
    "            predictions[:,index] = pred\n",
    "            \n",
    "        return predictions.astype(int)"
   ]
  },
  {
   "cell_type": "code",
   "execution_count": 6,
   "metadata": {},
   "outputs": [
    {
     "name": "stdout",
     "output_type": "stream",
     "text": [
      "Wall time: 55.2 s\n"
     ]
    }
   ],
   "source": [
    "%%time\n",
    "params_dict = {\n",
    "    'C': [2.6, 2.6, 1, 2.4, 3.1, 2.6, 2.6, 0.7, 2.6],\n",
    "    'gamma': [0.00026, 0.00031, 0.00048828125, 0.00048828125, 0.00055, 0.00048828125, 0.00017, 0.00048828125 ,0.00028]\n",
    "}\n",
    "\n",
    "multi_label_clf = MultiLabelSVM(number_of_labels=9, params=params_dict)\n",
    "X_train = preprocessing.scale(X_train)\n",
    "\n",
    "multi_label_clf.fit(X_train, y_train)"
   ]
  },
  {
   "cell_type": "code",
   "execution_count": 7,
   "metadata": {},
   "outputs": [],
   "source": [
    "# Predict validation set\n",
    "\n",
    "X_test = preprocessing.scale(X_test)\n",
    "y_pred = multi_label_clf.predict(X_test)"
   ]
  },
  {
   "cell_type": "code",
   "execution_count": 8,
   "metadata": {},
   "outputs": [
    {
     "name": "stdout",
     "output_type": "stream",
     "text": [
      "F1 Score:  0.86275659824\n",
      "F1 Individual Score:  [ 0.78228782  0.83333333  0.91370558  0.72307692  0.79227053  0.90909091\n",
      "  0.94698355  0.7826087   0.92916667]\n"
     ]
    }
   ],
   "source": [
    "from sklearn.metrics import f1_score\n",
    "\n",
    "print('F1 Score: ', f1_score(y_test, y_pred, average='micro'))\n",
    "print('F1 Individual Score: ', f1_score(y_test, y_pred, average=None))"
   ]
  },
  {
   "cell_type": "code",
   "execution_count": null,
   "metadata": {},
   "outputs": [],
   "source": [
    "# C = [2.6, 2,6, 1, 2.4, 3.1, 2.6, 2.6, 0.7, 2.6]\n",
    "# gamma = [0.00026, 0.00031, 0.00048828125, 0.00048828125, 0.00055, 0.00048828125, 0.00017, 0.00048828125 ,0.00028]\n",
    "X_train = preprocessing.scale(X_train)\n",
    "\n",
    "clf = svm.SVC(kernel='rbf', C=2.6, gamma=0.00031)\n",
    "clf.fit(X_train, y_train[:,1])\n",
    "\n",
    "X_test = preprocessing.scale(X_test)\n",
    "y_pred = clf.predict(X_test)"
   ]
  },
  {
   "cell_type": "code",
   "execution_count": null,
   "metadata": {},
   "outputs": [],
   "source": [
    "from sklearn.metrics import f1_score\n",
    "\n",
    "print('F1 Individual Score: ', f1_score(y_test[:,1], y_pred, average=None))"
   ]
  },
  {
   "cell_type": "code",
   "execution_count": null,
   "metadata": {},
   "outputs": [],
   "source": [
    "import pickle\n",
    "\n",
    "with open(r'D:\\LICENTA\\models\\svm_{size1}x{size2}\\svm_{name}.pkl'.format(size1=IMG_SIZE, size2=IMG_SIZE, name=MODEL_NAME), 'wb') as f:\n",
    "    pickle.dump(multi_label_clf, f)"
   ]
  },
  {
   "cell_type": "code",
   "execution_count": null,
   "metadata": {},
   "outputs": [],
   "source": [
    "# testing with outside photos\n",
    "\n",
    "from keras.applications.xception import Xception\n",
    "from keras.preprocessing import image\n",
    "from keras.applications.xception import preprocess_input\n",
    "import os\n",
    "\n",
    "model = Xception(weights='imagenet', include_top=False, pooling='avg')\n",
    "\n",
    "TEST_DIR = r'D:\\Retro Test Photos'\n",
    "        \n",
    "features = []\n",
    "\n",
    "for path in list(os.listdir(TEST_DIR)):\n",
    "    img = image.load_img(os.path.join(TEST_DIR, path), target_size=(IMG_SIZE, IMG_SIZE))\n",
    "    img_array = image.img_to_array(img)\n",
    "    img_array = np.expand_dims(img_array, axis=0)\n",
    "    img_array = preprocess_input(img_array)\n",
    "    features.append(model.predict(img_array).reshape(2048,))\n",
    "    \n",
    "test = np.mean(np.array(features), axis=0)\n",
    "\n",
    "test = test.reshape(2048,)\n",
    "test = preprocessing.scale(test)\n",
    "test = test.reshape(1, -1)\n",
    "prediction = multi_label_clf.predict(test)\n",
    "print(prediction)"
   ]
  },
  {
   "cell_type": "markdown",
   "metadata": {},
   "source": [
    "# Code below intended only for testing\n",
    "\n",
    "### Do this only if you trained the classifier on the whole dataset"
   ]
  },
  {
   "cell_type": "code",
   "execution_count": 8,
   "metadata": {},
   "outputs": [
    {
     "name": "stderr",
     "output_type": "stream",
     "text": [
      "c:\\users\\eduar\\appdata\\local\\programs\\python\\python36\\lib\\site-packages\\numpy\\lib\\arraysetops.py:463: FutureWarning: elementwise comparison failed; returning scalar instead, but in the future will perform elementwise comparison\n",
      "  mask |= (ar1 == a)\n"
     ]
    },
    {
     "name": "stdout",
     "output_type": "stream",
     "text": [
      "X_test  (10000, 2048)\n"
     ]
    },
    {
     "data": {
      "text/html": [
       "<div>\n",
       "<style>\n",
       "    .dataframe thead tr:only-child th {\n",
       "        text-align: right;\n",
       "    }\n",
       "\n",
       "    .dataframe thead th {\n",
       "        text-align: left;\n",
       "    }\n",
       "\n",
       "    .dataframe tbody tr th {\n",
       "        vertical-align: top;\n",
       "    }\n",
       "</style>\n",
       "<table border=\"1\" class=\"dataframe\">\n",
       "  <thead>\n",
       "    <tr style=\"text-align: right;\">\n",
       "      <th></th>\n",
       "      <th>business</th>\n",
       "      <th>feature_vector</th>\n",
       "    </tr>\n",
       "  </thead>\n",
       "  <tbody>\n",
       "    <tr>\n",
       "      <th>0</th>\n",
       "      <td>003sg</td>\n",
       "      <td>[0.11907065, 0.073270835, 0.10785412, 0.073216...</td>\n",
       "    </tr>\n",
       "    <tr>\n",
       "      <th>1</th>\n",
       "      <td>00er5</td>\n",
       "      <td>[0.13801534, 0.069412991, 0.10356507, 0.093447...</td>\n",
       "    </tr>\n",
       "    <tr>\n",
       "      <th>2</th>\n",
       "      <td>00kad</td>\n",
       "      <td>[0.11502581, 0.073984087, 0.12335605, 0.070464...</td>\n",
       "    </tr>\n",
       "    <tr>\n",
       "      <th>3</th>\n",
       "      <td>00mc6</td>\n",
       "      <td>[0.11302663, 0.069561109, 0.10974503, 0.097833...</td>\n",
       "    </tr>\n",
       "    <tr>\n",
       "      <th>4</th>\n",
       "      <td>00q7x</td>\n",
       "      <td>[0.080705076, 0.051065292, 0.079456739, 0.1045...</td>\n",
       "    </tr>\n",
       "  </tbody>\n",
       "</table>\n",
       "</div>"
      ],
      "text/plain": [
       "  business                                     feature_vector\n",
       "0    003sg  [0.11907065, 0.073270835, 0.10785412, 0.073216...\n",
       "1    00er5  [0.13801534, 0.069412991, 0.10356507, 0.093447...\n",
       "2    00kad  [0.11502581, 0.073984087, 0.12335605, 0.070464...\n",
       "3    00mc6  [0.11302663, 0.069561109, 0.10974503, 0.097833...\n",
       "4    00q7x  [0.080705076, 0.051065292, 0.079456739, 0.1045..."
      ]
     },
     "execution_count": 8,
     "metadata": {},
     "output_type": "execute_result"
    }
   ],
   "source": [
    "TEST_FEATURES_PATH = DATA_DIR +  r'\\test_biz_{name}_features.csv'.format(name=MODEL_NAME)\n",
    "\n",
    "test_photo_to_biz = pd.read_csv('test_photo_to_biz.csv', index_col='photo_id')\n",
    "test_df = pd.read_csv(TEST_FEATURES_PATH)\n",
    "\n",
    "X = test_df['feature_vector'].values\n",
    "\n",
    "X = np.array([convert_feature_to_vector(x) for x in test_df['feature_vector']])\n",
    "\n",
    "print('X_test ', X.shape)\n",
    "test_df[0:5]"
   ]
  },
  {
   "cell_type": "code",
   "execution_count": 9,
   "metadata": {},
   "outputs": [
    {
     "name": "stdout",
     "output_type": "stream",
     "text": [
      "Wall time: 3min 21s\n"
     ]
    }
   ],
   "source": [
    "%%time\n",
    "\n",
    "submission = pd.DataFrame(columns=['business_id','labels'])\n",
    "\n",
    "X = preprocessing.scale(X)\n",
    "\n",
    "y_predict = multi_label_clf.predict(X)\n",
    "\n",
    "y_predict_label = mlb.inverse_transform(y_predict)\n",
    "\n",
    "for i in range(len(test_df)):\n",
    "    biz = test_df.loc[i]['business']\n",
    "    label = y_predict_label[i]\n",
    "    label = str(label)[1:-1].replace(\",\", \" \")\n",
    "    submission.loc[i] = [str(biz), label]\n",
    "\n",
    "with open('submission.csv', 'w') as f:\n",
    "    submission.to_csv(f, index=False)"
   ]
  }
 ],
 "metadata": {
  "kernelspec": {
   "display_name": "Python 3",
   "language": "python",
   "name": "python3"
  },
  "language_info": {
   "codemirror_mode": {
    "name": "ipython",
    "version": 3
   },
   "file_extension": ".py",
   "mimetype": "text/x-python",
   "name": "python",
   "nbconvert_exporter": "python",
   "pygments_lexer": "ipython3",
   "version": "3.6.2"
  }
 },
 "nbformat": 4,
 "nbformat_minor": 2
}
